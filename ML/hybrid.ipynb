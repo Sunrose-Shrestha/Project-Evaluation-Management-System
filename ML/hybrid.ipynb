{
 "cells": [
  {
   "cell_type": "code",
   "execution_count": 15,
   "id": "2b97cb92",
   "metadata": {},
   "outputs": [
    {
     "name": "stdout",
     "output_type": "stream",
     "text": [
      "[[13 14]\n",
      " [13 16]\n",
      " [14 29]\n",
      " [14 17]\n",
      " [15 17]\n",
      " [17 14]\n",
      " [23 14]\n",
      " [19 19]\n",
      " [18 14]\n",
      " [18 20]\n",
      " [15 17]\n",
      " [15 19]\n",
      " [20 15]\n",
      " [17 18]\n",
      " [19 21]\n",
      " [21 16]\n",
      " [18 15]\n",
      " [18 23]\n",
      " [17 19]]\n",
      "[0.   0.1  0.8  0.3  0.35 0.15 0.5  0.55 0.25 0.55 0.3  0.35 0.4  0.4\n",
      " 0.65 0.5  0.3  0.7  0.45]\n",
      "Training Set 17\n",
      "Test Set 2\n",
      "[[14 17]\n",
      " [23 14]]\n",
      "[0.3 0.5]\n",
      "[array([0.325]), array([0.4])]\n",
      "Mean Squared Error: 0.01\n"
     ]
    }
   ],
   "source": [
    "from sklearn.neighbors import KNeighborsRegressor\n",
    "from sklearn.tree import DecisionTreeRegressor\n",
    "import pandas as pd\n",
    "import numpy as np\n",
    "from sklearn.metrics import mean_squared_error\n",
    "# Load the dataset and split into training and testing sets\n",
    "dataset = pd.read_csv('college.csv')\n",
    "c=[\"Review1\",\"Review2\"]\n",
    "x = dataset[c].values\n",
    "y = dataset['Index'].values\n",
    "print(x)\n",
    "print(y)\n",
    "from sklearn.model_selection import train_test_split\n",
    "X_train, X_test, y_train, y_test = train_test_split(x, y, test_size=0.10\\\n",
    "                                                   , random_state =9)\n",
    "\n",
    "print('Training Set', len(X_train))\n",
    "print('Test Set', len(X_test))\n",
    "print(X_test)\n",
    "print(y_test)\n",
    "\n",
    "\n",
    "\n",
    "# Set the number of nearest neighbors for KNN\n",
    "k = 3\n",
    "\n",
    "# Build the KNN model and select a subset of k nearest neighbors for each data point in the testing set\n",
    "knn_model = KNeighborsRegressor(n_neighbors=k)\n",
    "knn_model.fit(X_train, y_train)\n",
    "knn_subset = knn_model.kneighbors(X_test, return_distance=False)\n",
    "\n",
    "# Build the Decision Tree Regression model using the subset of training data selected by KNN\n",
    "tree_model = DecisionTreeRegressor()\n",
    "y_pred = []\n",
    "for i in range(len(X_test)):\n",
    "    indices = knn_subset[i]\n",
    "    knn_X = X_train[indices]\n",
    "    knn_y = y_train[indices]\n",
    "    tree_model.fit(knn_X, knn_y)\n",
    "    y_pred.append(tree_model.predict(X_test[i].reshape(1, -1)))\n",
    "print(y_pred)\n",
    "\n",
    "# Evaluate the performance of the combined KNN-Decision Tree Regression model on the testing set\n",
    "y_pred = np.array(y_pred).flatten()\n",
    "mse = mean_squared_error(y_test, y_pred)\n",
    "print(\"Mean Squared Error: %.2f\" % mse)\n",
    "\n"
   ]
  },
  {
   "cell_type": "code",
   "execution_count": null,
   "id": "80cb8bf5",
   "metadata": {},
   "outputs": [],
   "source": []
  }
 ],
 "metadata": {
  "kernelspec": {
   "display_name": "Python 3 (ipykernel)",
   "language": "python",
   "name": "python3"
  },
  "language_info": {
   "codemirror_mode": {
    "name": "ipython",
    "version": 3
   },
   "file_extension": ".py",
   "mimetype": "text/x-python",
   "name": "python",
   "nbconvert_exporter": "python",
   "pygments_lexer": "ipython3",
   "version": "3.10.9"
  }
 },
 "nbformat": 4,
 "nbformat_minor": 5
}
